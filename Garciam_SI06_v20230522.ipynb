{
  "cells": [
    {
      "cell_type": "markdown",
      "metadata": {
        "id": "view-in-github",
        "colab_type": "text"
      },
      "source": [
        "<a href=\"https://colab.research.google.com/github/Mgarciaqu/Investigacion1/blob/main/Garciam_SI06_v20230522.ipynb\" target=\"_parent\"><img src=\"https://colab.research.google.com/assets/colab-badge.svg\" alt=\"Open In Colab\"/></a>"
      ]
    },
    {
      "cell_type": "code",
      "execution_count": 1,
      "metadata": {
        "colab": {
          "base_uri": "https://localhost:8080/"
        },
        "id": "eTfnm9uiT7S9",
        "outputId": "9d34d441-df20-4f53-dce1-b361d75f54f2"
      },
      "outputs": [
        {
          "output_type": "stream",
          "name": "stdout",
          "text": [
            "Estado de la solución: optimal\n",
            "Cantidad a transportar a cada punto de venta:\n",
            "Punto de venta 1:  600.00\n",
            "Punto de venta 2:  1000.00\n",
            "Punto de venta 3:  0.00\n",
            "Costo total de transporte:  7000.000022870138\n"
          ]
        }
      ],
      "source": [
        "\n",
        "import cvxpy as cvx\n",
        "\n",
        "# Crear las variables de flujo\n",
        "x = cvx.Variable(3)  \n",
        "\n",
        "# Datos del problema\n",
        "costos = [5, 4, 6]  # Costos de transporte por unidad\n",
        "capacidad_planta = 1000\n",
        "demandas = [500, 700, 400]  # Demandas de cada punto de venta\n",
        "\n",
        "# Restricciones\n",
        "restricciones = [\n",
        "    x >= 0,  # Las cantidades deben ser no negativas\n",
        "    x <= capacidad_planta,  # No podemos transportar más de la capacidad de la planta\n",
        "    cvx.sum(x) == sum(demandas)  # La suma de las cantidades transportadas debe ser igual a la suma de las demandas\n",
        "]\n",
        "\n",
        "# Función objetivo: minimizar los costos de transporte\n",
        "costo_total = costos @ x\n",
        "objetivo = cvx.Minimize(costo_total)\n",
        "\n",
        "# Estructuracion del problema\n",
        "problema = cvx.Problem(objetivo, restricciones)\n",
        "\n",
        "# Resolución del problema\n",
        "problema.solve()\n",
        "print(\"Estado de la solución:\", problema.status)\n",
        "\n",
        "# Resultados\n",
        "print(\"Cantidad a transportar a cada punto de venta:\")\n",
        "\n",
        "print(\"Punto de venta 1: \", \"%.2f\"% x[0].value)\n",
        "print(\"Punto de venta 2: \", \"%.2f\"% x[1].value) \n",
        "print(\"Punto de venta 3: \", \"%.2f\"% x[2].value)  \n",
        "\n",
        "\n",
        "print(\"Costo total de transporte: \", costo_total.value)\n"
      ]
    },
    {
      "cell_type": "markdown",
      "metadata": {
        "id": "2g2dWuG1WePW"
      },
      "source": [
        "###**Analisis de Resultados** \n",
        "\n",
        "Estado de la solución: El estado \"optimal\" indica que se ha encontrado una solución óptima al problema de optimización. Esto significa que se ha alcanzado el valor mínimo de la función objetivo sujeta a las restricciones dadas.\n",
        "\n",
        "Cantidad a transportar a cada punto de venta: Los resultados indican la cantidad óptima a transportar desde la planta central a cada punto de venta. En este caso, la solución óptima sugiere lo siguiente:\n",
        "\n",
        "Para el punto de venta 1, se deben transportar aproximadamente 600 unidades.\n",
        "Para el punto de venta 2, se deben transportar aproximadamente 1,000 unidades.\n",
        "Para el punto de venta 3, se deben transportar aproximadamente 0 unidades \n",
        "Costo total de transporte: El valor del costo total de transporte es de aproximadamente 7,000. Esto indica que, en la solución óptima, se requerirá gastar esa cantidad de dinero para satisfacer todas las demandas de los puntos de venta de la manera más económica posible.\n",
        "\n",
        "En resumen, la solución óptima indica cómo distribuir la cantidad de productos desde la planta central a cada punto de venta, minimizando los costos de transporte y satisfaciendo todas las demandas. Sin embargo, se debe tener en cuenta que los resultados pueden presentar pequeñas discrepancias debido a la naturaleza numérica de los cálculos.\n",
        "\n",
        "\n",
        "\n",
        "\n",
        "\n",
        "\n"
      ]
    }
  ],
  "metadata": {
    "colab": {
      "provenance": [],
      "include_colab_link": true
    },
    "kernelspec": {
      "display_name": "Python 3",
      "name": "python3"
    },
    "language_info": {
      "name": "python"
    }
  },
  "nbformat": 4,
  "nbformat_minor": 0
}