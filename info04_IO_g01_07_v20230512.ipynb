{
  "nbformat": 4,
  "nbformat_minor": 0,
  "metadata": {
    "colab": {
      "provenance": [],
      "include_colab_link": true
    },
    "kernelspec": {
      "name": "python3",
      "display_name": "Python 3"
    },
    "language_info": {
      "name": "python"
    }
  },
  "cells": [
    {
      "cell_type": "markdown",
      "metadata": {
        "id": "view-in-github",
        "colab_type": "text"
      },
      "source": [
        "<a href=\"https://colab.research.google.com/github/Mgarciaqu/Investigacion1/blob/main/info04_IO_g01_07_v20230512.ipynb\" target=\"_parent\"><img src=\"https://colab.research.google.com/assets/colab-badge.svg\" alt=\"Open In Colab\"/></a>"
      ]
    },
    {
      "cell_type": "markdown",
      "source": [
        "# Informe final IO I 2023-01\n",
        "\n",
        "Diligencia las casillas indicadas.\n",
        "\n",
        "**No modifique la estructura del archivo.**\n",
        "\n",
        "El proyecto debe ser planteado y resuelto utilizando [CVXPY](https://www.cvxpy.org/)."
      ],
      "metadata": {
        "id": "xEXkvK0O0LJe"
      }
    },
    {
      "cell_type": "markdown",
      "source": [
        "# Integrantes del equipo que participaron en la elaboración del informe\n",
        "\n",
        "Escriba, a continuación, los nombres y los apellidos de las personas que hayan **participado de manera significativa** en la elaboración del informe.\n",
        "\n",
        "1.   Andres Felipe Ramirez Suarez\n",
        "2.   Brian Alexander Guerrero Bohórquez\n",
        "3.   Katherin Chapid Muñoz\n",
        "4.   Michael García Quincos "
      ],
      "metadata": {
        "id": "wnCTxb6i0e6N"
      }
    },
    {
      "cell_type": "markdown",
      "source": [
        "# Objetivo del proyecto\n",
        "\n",
        "Maximizar los ingresos utilizando como base la especie de madera y producto que se puede obtener de esta. \n",
        "###Las unidades de medida seran en pesos para las ganancias"
      ],
      "metadata": {
        "id": "9fLgajWc2IYU"
      }
    },
    {
      "cell_type": "markdown",
      "source": [
        "# Importante:\n",
        "Los conjuntos de datos correspondientes a coeficientes de costos, coeficientes técnicos y restricciones deben ser leídos desde urls.\n",
        "\n",
        "Sugerencia: suba los datasets a Googledrive y luego publíquelos como página web. El siguiente enlace le indica cómo hacerlo: [Cómo publicar archivos de Documentos, Hojas de cálculo, Presentaciones y Formularios de Google](https://support.google.com/docs/answer/183965?hl=es-419&co=GENIE.Platform%3DDesktop).\n",
        "\n",
        "Nota: si lo desea puede utilizar otro método para obtener las urls de los conjuntos de datos."
      ],
      "metadata": {
        "id": "Qa8SyhOR6sMB"
      }
    },
    {
      "cell_type": "markdown",
      "source": [
        "# Preparación del ejercicio"
      ],
      "metadata": {
        "id": "nHnpwNeq7ebB"
      }
    },
    {
      "cell_type": "code",
      "source": [
        "# Libreria para resolver el problema con cvxpy\n",
        "import cvxpy as cvx\n",
        "\n",
        "#libreria para leer los archivos\n",
        "import pandas as pd\n",
        "import numpy as np\n",
        "import pandas as pd\n",
        "import openpyxl\n",
        "\n"
      ],
      "metadata": {
        "id": "8obDvj_b78eQ"
      },
      "execution_count": null,
      "outputs": []
    },
    {
      "cell_type": "markdown",
      "source": [
        "# Variables de decisión\n",
        "\n",
        "###Las unidades de medida seran en unidades\n",
        "\n",
        "**x1:** la cantidad de Bloque de Cedrela Odorata producidos y vendidos\n",
        "\n",
        "**x2:** la cantidad de tabla de Cedrela Odorata producidas y vendidas\n",
        "\n",
        "**x3:** la cantidad de rolliza de Pinus Patula producidos y vendidos\n",
        "\n",
        "**x4:** la cantidad de pulpa de Pinus Patula producidas y vendidas\n",
        "\n",
        "**x5:** la cantidad de viga de Pinus Patula producidas y vendidas\n",
        "\n",
        "**x6:** la cantidad de bloque de Tectona Grandis producidas y vendidas\n",
        "\n",
        "**x7:** la cantidad de tabla de Tectona Grandis producidas y vendidas\n",
        "\n",
        "**x8:** la cantidad de bloque de Pinus Patula producidas y vendidas\n",
        "\n",
        "**x9:** la cantidad de tabla de Pinus Patula producidas y vendidas\n",
        "\n",
        "**x10:** la cantidad de poste de Pinus Oocarpa producidas y vendidas"
      ],
      "metadata": {
        "id": "QGy27SoU2uW0"
      }
    },
    {
      "cell_type": "markdown",
      "source": [
        "### Escriba acá las variables de decisión (mínimo cinco) con sus correspondientes unidades de medida\n",
        "\n"
      ],
      "metadata": {
        "id": "6rsg46CV3ZGk"
      }
    },
    {
      "cell_type": "code",
      "source": [
        "# Variables de decisión\n",
        "x1 = cvx.Variable(integer=True)\n",
        "x2 = cvx.Variable(integer=True)\n",
        "x3 = cvx.Variable(integer=True)\n",
        "x4 = cvx.Variable(integer=True)\n",
        "x5 = cvx.Variable(integer=True)\n",
        "x6 = cvx.Variable(integer=True)\n",
        "x7 = cvx.Variable(integer=True)\n",
        "x8 = cvx.Variable(integer=True)\n",
        "x9 = cvx.Variable(integer=True)\n",
        "x10 = cvx.Variable(integer=True)"
      ],
      "metadata": {
        "id": "lhlFKyIP8lBI"
      },
      "execution_count": null,
      "outputs": []
    },
    {
      "cell_type": "markdown",
      "source": [
        "# Coeficientes de costos\n",
        "\n",
        "Se trabaja con 4 diferentes tipos de madera y se selecciona productos en diferentes presentaciones, luego se calcula el costo por unidad de prodcuto y se convierte la medida de unida en metros cúbicos.\n",
        "Las unidades de medida son unidades."
      ],
      "metadata": {
        "id": "nfkjPzO11-mQ"
      }
    },
    {
      "cell_type": "markdown",
      "source": [
        "### Escriba acá los coeficientes de costos con sus correspondientes unidades de medida\n"
      ],
      "metadata": {
        "id": "bYxmrgvxG8Qb"
      }
    },
    {
      "cell_type": "markdown",
      "source": [],
      "metadata": {
        "id": "QDC-MV-vG3gS"
      }
    },
    {
      "cell_type": "code",
      "source": [
        "import pandas as pd\n",
        "#Se establece el conjunto de datos en una variable\n",
        "ruta = \"https://docs.google.com/spreadsheets/d/e/2PACX-1vR6cPdseEV4OrrrvVAs3ltiSJRcndFEkdHfIGwps9U1KIL3V4z6rk3iyNWTuP3W7fqcsH_hMsd14De1/pub?output=csv\"\n",
        "\n",
        "# Se Carga el conjunto de datos a partir de la ruta establecida\n",
        "coeficientes_df = pd.read_csv(ruta, sep=',')\n",
        "\n",
        "# Se verifica el conjunto de datos\n",
        "print(coeficientes_df)\n",
        "\n",
        "\n"
      ],
      "metadata": {
        "id": "RGx6Z7Fw32fW",
        "colab": {
          "base_uri": "https://localhost:8080/"
        },
        "outputId": "62b30397-3d76-4ca4-c826-068ed90cacb3"
      },
      "execution_count": null,
      "outputs": [
        {
          "output_type": "stream",
          "name": "stdout",
          "text": [
            "   Producto           Especie                 Costo   Volumen m3\n",
            "0    Bloque   Cedrela Odorata              $168.623      0,00164\n",
            "1     Tabla   Cedrela Odorata              $110.000      0,01068\n",
            "2  Rolliza       Pinus Patula              $221.000    0,0283168\n",
            "3     pulpa      Pinus Patula               $80.000            1\n",
            "4      Viga      Pinus Patula               $27.000         0,03\n",
            "5   Bloque   Tectona Grandis               $195.000  0,012515625\n",
            "6     Tabla  Tectona Grandis                $39.000   0,00380475\n",
            "7    Bloque      Pinus Patula               $25.000         0,03\n",
            "8     Tabla      Pinus Patula               $56.000         0,04\n",
            "9     Poste     Pinus oocarpa               $65.000       0,0016\n"
          ]
        }
      ]
    },
    {
      "cell_type": "markdown",
      "source": [
        "# Función objetivo"
      ],
      "metadata": {
        "id": "RotGELTj4AMV"
      }
    },
    {
      "cell_type": "code",
      "source": [
        "# funcion objetivo\n",
        "fun_Obj = cvx.Maximize((*x1) + (127000*x2) + (221000*x3) + (80000*x4) + (27000*x5)+(195000*x6)+(39000*x7)+ (25000*x8)+(56000*x9)+(65000*x10))\n"
      ],
      "metadata": {
        "id": "7YSu06Ws4EK6"
      },
      "execution_count": null,
      "outputs": []
    },
    {
      "cell_type": "markdown",
      "source": [
        "# Coeficientes técnicos\n",
        "\n",
        "¿Cuáles son los coeficientes técnicos y cuáles son sus unidades de medida?"
      ],
      "metadata": {
        "id": "rRG9t0W-4PD1"
      }
    },
    {
      "cell_type": "markdown",
      "source": [
        "### Escriba acá los coeficientes técnicos con sus correspondientes unidades de medida\n"
      ],
      "metadata": {
        "id": "M7TTJG1jHLEs"
      }
    },
    {
      "cell_type": "code",
      "source": [
        "#Se establece el conjunto de datos en una variable\n",
        "ruta_1 = \"https://docs.google.com/spreadsheets/d/e/2PACX-1vR6cPdseEV4OrrrvVAs3ltiSJRcndFEkdHfIGwps9U1KIL3V4z6rk3iyNWTuP3W7fqcsH_hMsd14De1/pub?output=csv\"\n",
        "\n",
        "# Se Carga el conjunto de datos a partir de la ruta establecida\n",
        "coeficientes_df = pd.read_csv(ruta_1, sep=',')\n",
        "\n",
        "# Se verifica el conjunto de datos\n",
        "print(coeficientes_df)\n",
        "\n"
      ],
      "metadata": {
        "id": "Zs1HUvPk4Wv4",
        "colab": {
          "base_uri": "https://localhost:8080/"
        },
        "outputId": "04ed7e2f-621a-47e9-fc87-824a9ff060bc"
      },
      "execution_count": null,
      "outputs": [
        {
          "output_type": "stream",
          "name": "stdout",
          "text": [
            "   Producto           Especie                 Costo   Volumen m3\n",
            "0    Bloque   Cedrela Odorata              $168.623      0,00164\n",
            "1     Tabla   Cedrela Odorata              $110.000      0,01068\n",
            "2  Rolliza       Pinus Patula              $221.000    0,0283168\n",
            "3     pulpa      Pinus Patula               $80.000            1\n",
            "4      Viga      Pinus Patula               $27.000         0,03\n",
            "5   Bloque   Tectona Grandis               $195.000  0,012515625\n",
            "6     Tabla  Tectona Grandis                $39.000   0,00380475\n",
            "7    Bloque      Pinus Patula               $25.000         0,03\n",
            "8     Tabla      Pinus Patula               $56.000         0,04\n",
            "9     Poste     Pinus oocarpa               $65.000       0,0016\n"
          ]
        }
      ]
    },
    {
      "cell_type": "markdown",
      "source": [
        "# Restricciones\n",
        "Restricciones de materia prima con coeficientes de medida: la cantidad de materia prima por la cantidad producida y vendida de un tipo de madera tiene que ser menor o igual a la materia prima disponible.\n",
        "Restricciones de demanda: cantidad de producto fabricado en todas las especies.\n",
        "Restricción de no negstividad: las unidades producidas y vendidas tienen que ser mayor o igual a cero.\n",
        "La unidad de medida es metros cúbicos \n",
        "\n"
      ],
      "metadata": {
        "id": "XlrmY9rM4f2Y"
      }
    },
    {
      "cell_type": "markdown",
      "source": [
        "### Escriba acá las restricciones con sus correspondientes unidades de medida\n"
      ],
      "metadata": {
        "id": "kecH_marHZgn"
      }
    },
    {
      "cell_type": "code",
      "source": [
        "#Se establece el conjunto de datos en una variable\n",
        "\n",
        "ruta_2 = \"https://docs.google.com/spreadsheets/d/e/2PACX-1vQBYlJ2MC-w1Enk6cFpMi_Mq9JUZ8JmlmQN-GAdWQtr1pcfomwSs8F1FG2o_9cGD2SoiePfLp2HpiZO/pub?output=csv\"\n",
        "\n",
        "# Se Carga el conjunto de datos a partir de la ruta establecida\n",
        "arboles_df = pd.read_csv(ruta_2, sep=',')\n",
        "\n",
        "# Se verifica el conjunto de datos\n",
        "print(arboles_df)\n"
      ],
      "metadata": {
        "id": "Ck_QZVgp4iBm",
        "colab": {
          "base_uri": "https://localhost:8080/"
        },
        "outputId": "5c84e90c-d9b0-46b7-8969-bd206df3883e"
      },
      "execution_count": null,
      "outputs": [
        {
          "output_type": "stream",
          "name": "stdout",
          "text": [
            "        AÑO                     ESPECIE TIPO PRODUCTO  VOLUMEN M3\n",
            "0      2012          Eucalyptus saligna        Bloque        72.0\n",
            "1      2012                Pinus patula        Bloque       274.0\n",
            "2      2012              Acacia mangium        Bloque       175.0\n",
            "3      2012  Cupressus lusitanica Mill.        Bloque        60.0\n",
            "4      2012              Acacia mangium        Bloque       220.0\n",
            "...     ...                         ...           ...         ...\n",
            "55396  2022        Terminalia ivorensis        Bloque       178.0\n",
            "55397  2022        Terminalia ivorensis       Rolliza        56.0\n",
            "55398  2022             Terminalia spp.       Rolliza        60.0\n",
            "55399  2022             Terminalia spp.       Rolliza        20.0\n",
            "55400                               NaN           NaN         NaN\n",
            "\n",
            "[55401 rows x 4 columns]\n"
          ]
        }
      ]
    },
    {
      "cell_type": "code",
      "source": [
        "restricciones = [\n",
        "\n",
        "#restricciones de materia prima con coeficientes de medida\n",
        "0.00164*x1 + 0.0283168*x2 <= 576,\n",
        "0.1209*x3+ x4 +  0.03*x5+ 0.03*x8+0.04*x9 <=241999,\n",
        "0.012515625*x6 + 0.00380475*x7 <= 61363,\n",
        "0.0016*x10<=25872, \n",
        "\n",
        "#restricciones de demanda\n",
        "x1 + x6 + x8 <= 158698,\n",
        "x2 + x7 + x9 <= 8907,\n",
        "x3 <= 495779,\n",
        "x4 <= 421899,\n",
        "x5 <= 418,\n",
        "x10<= 6270,\n",
        "\n",
        "#restricción de no negatividad\n",
        "x1 >= 0,\n",
        "x2 >= 0,\n",
        "x3 >= 0,\n",
        "x4 >= 0,\n",
        "x5 >= 0,\n",
        "x6 >= 0,\n",
        "x7 >= 0,\n",
        "x8 >= 0,\n",
        "x9 >= 0,\n",
        "x10>=0\n",
        "]\n"
      ],
      "metadata": {
        "id": "ad05OTP34-rq"
      },
      "execution_count": null,
      "outputs": []
    },
    {
      "cell_type": "markdown",
      "source": [
        "# Estructuración del problema"
      ],
      "metadata": {
        "id": "mapOEaHp4spo"
      }
    },
    {
      "cell_type": "code",
      "source": [
        "# Escriba acá el código para estructurar el problema\n",
        "\n",
        "\n",
        "problema = cvx.Problem(fun_Obj, restricciones)\n",
        "\n"
      ],
      "metadata": {
        "id": "_PP37Uwk4zEH"
      },
      "execution_count": null,
      "outputs": []
    },
    {
      "cell_type": "markdown",
      "source": [
        "# Solución del problema"
      ],
      "metadata": {
        "id": "oZ-WyfnK5b0q"
      }
    },
    {
      "cell_type": "code",
      "source": [
        "#estado de la solución\n",
        "\n",
        "print(\"Estado de la solución:\", problema.status)\n"
      ],
      "metadata": {
        "id": "XcEAnYeN5ghW",
        "colab": {
          "base_uri": "https://localhost:8080/"
        },
        "outputId": "5cda5529-7be4-4caf-f205-1388c0b53663"
      },
      "execution_count": null,
      "outputs": [
        {
          "output_type": "stream",
          "name": "stdout",
          "text": [
            "Estado de la solución: None\n"
          ]
        }
      ]
    },
    {
      "cell_type": "markdown",
      "source": [
        "# Resultados\n",
        "\n",
        "Muestre el valor óptimo de la función objetivo y los valores óptimos de las variables de decisión, junto con sus unidades."
      ],
      "metadata": {
        "id": "DVM2YTa85uAL"
      }
    },
    {
      "cell_type": "code",
      "source": [
        "import cvxpy as cvx\n",
        "\n",
        "x1 = cvx.Variable(integer=True)\n",
        "x2 = cvx.Variable(integer=True)\n",
        "x3 = cvx.Variable(integer=True)\n",
        "x4 = cvx.Variable(integer=True)\n",
        "x5 = cvx.Variable(integer=True)\n",
        "x6 = cvx.Variable(integer=True)\n",
        "x7 = cvx.Variable(integer=True)\n",
        "x8 = cvx.Variable(integer=True)\n",
        "x9 = cvx.Variable(integer=True)\n",
        "x10 = cvx.Variable(integer=True)\n",
        "\n",
        "fun_Obj = cvx.Maximize(([]*x1) + (127000*x2) + (221000*x3) + (80000*x4) + (27000*x5)+(195000*x6)+(39000*x7)+ (25000*x8)+(56000*x9)+(65000*x10))\n",
        "\n",
        "\n",
        "\n",
        "restricciones = [\n",
        "\n",
        "#restriccioes de materia prima con coeficientes de medida\n",
        "0.00164*x1 + 0.0283168*x2 <= 576,\n",
        "0.1209*x3+ x4 +  0.03*x5+ 0.03*x8+0.04*x9 <=241999,\n",
        "0.012515625*x6 + 0.00380475*x7 <= 61363,\n",
        "0.0016*x10<=25872,\n",
        "\n",
        "#restriccioes de demada\n",
        "x1 + x6 + x8 <= 158698,\n",
        "x2 + x7 + x9 <= 8907,\n",
        "x3 <= 495779,\n",
        "x4 <= 421899,\n",
        "x5 <= 418,\n",
        "x10<= 6270,\n",
        "\n",
        "\n",
        "x1 >= 0,\n",
        "x2 >= 0,\n",
        "x3 >= 0,\n",
        "x4 >= 0,\n",
        "x5 >= 0,\n",
        "x6 >= 0,\n",
        "x7 >= 0,\n",
        "x8 >= 0,\n",
        "x9 >= 0,\n",
        "x10>=0\n",
        "]\n",
        "\n",
        "\n",
        "import cvxpy as cvx\n",
        "\n",
        "problema = cvx.Problem(fun_Obj, restricciones) \n",
        "\n",
        "# Escriba acá el código para mostrar los resultados\n",
        "\n",
        "# Obtener el valor óptimo\n",
        "problema.solve()\n",
        "\n",
        "# Mostrar el valor óptimo de la función objetivo\n",
        "print(\"Valor óptimo de la función objetivo:\", problema.value)\n",
        "\n",
        "# Mostrar los valores óptimos de las variables de decisión\n",
        "print(\"Valores óptimos de las variables de decisión:\", x1.value, x2.value, x3.value, x4.value, x5.value, x6.value, x7.value , x8.value, x9.value, x10.value)\n",
        "print(\"Las unidades de Bloque de Cedrela Odorata producidos y vendidos(x1) son: \", x1.value) \n",
        "print(\"Las unidades de tabla de Cedrela Odorata producidas y vendidas (x2) son: \",  x2.value)\n",
        "print(\"Las unidades de rolliza de Pinus Patula producidos y vendidos (x3) son: \",  x3.value)\n",
        "print(\"Las unidades de pulpa de Pinus Patula producidas y vendidas (x4) son: \",  x4.value)\n",
        "print(\"Las unidades de viga de Pinus Patula producidas y vendidas (x5) son: \",  x5.value)\n",
        "print(\"Las unidades de bloque de Tectona Grandis producidas y vendidas (x6) son: \",  x6.value)\n",
        "print(\"Las unidades de tabla de Tectona Grandis producidas y vendidas (x7) son: \",  x7.value)\n",
        "print(\"Las unidades de bloque de Pinus Patula producidas y vendidas (x8) son: \",  x8.value)\n",
        "print(\"Las unidades de tabla de Pinus Patula producidas y vendidas (x9) son: \",  x9.value)\n",
        "print(\"Las unidades de poste de Pinus Oocarpa producidas y vendidas (x10) son: \",  x10.value)"
      ],
      "metadata": {
        "id": "QMHUuOex5w-T",
        "colab": {
          "base_uri": "https://localhost:8080/"
        },
        "outputId": "4b6e71d3-1e7c-4b45-8531-8c49ea8de62b"
      },
      "execution_count": null,
      "outputs": [
        {
          "output_type": "stream",
          "name": "stdout",
          "text": [
            "Valor óptimo de la función objetivo: 156626974000.0\n",
            "Valores óptimos de las variables de decisión: 0.0 8907.0 495779.0 182046.0 418.0 158698.0 0.0 0.0 0.0 6270.0\n",
            "Las unidades de Bloque de Cedrela Odorata producidos y vendidos(x1) son:  0.0\n",
            "Las unidades de tabla de Cedrela Odorata producidas y vendidas (x2) son:  8907.0\n",
            "Las unidades de rolliza de Pinus Patula producidos y vendidos (x3) son:  495779.0\n",
            "Las unidades de pulpa de Pinus Patula producidas y vendidas (x4) son:  182046.0\n",
            "Las unidades de viga de Pinus Patula producidas y vendidas (x5) son:  418.0\n",
            "Las unidades de bloque de Tectona Grandis producidas y vendidas (x6) son:  158698.0\n",
            "Las unidades de tabla de Tectona Grandis producidas y vendidas (x7) son:  0.0\n",
            "Las unidades de bloque de Pinus Patula producidas y vendidas (x8) son:  0.0\n",
            "Las unidades de tabla de Pinus Patula producidas y vendidas (x9) son:  0.0\n",
            "Las unidades de poste de Pinus Oocarpa producidas y vendidas (x10) son:  6270.0\n"
          ]
        }
      ]
    },
    {
      "cell_type": "markdown",
      "source": [
        "# Análisis de los resultados"
      ],
      "metadata": {
        "id": "wRsqygCu52yA"
      }
    },
    {
      "cell_type": "markdown",
      "source": [
        "Según los resultados obtenidos se puede analizar que el producto más vendido es X3 con un valor de 495779,  los productos con valor cero son aquellos que no se producen ni se venden por ser economicos y no gastar materia prima en productos que generan pocas ganancias\n",
        "\n"
      ],
      "metadata": {
        "id": "3MOWkWhO57Q4"
      }
    },
    {
      "cell_type": "markdown",
      "source": [
        "# Fuentes de datos"
      ],
      "metadata": {
        "id": "ZniPABWy6Fn6"
      }
    },
    {
      "cell_type": "markdown",
      "source": [
        "### Escriba acá las fuentes de datos utilizadas para el desarrollo del proyecto\n",
        "\n",
        "1. https://www.datos.gov.co/Agricultura-y-Desarrollo-Rural/Base-de-datos-relacionada-con-madera-movilizada-pr/9aan-wm8m\n",
        "\n",
        "2. https://maderame.com/enciclopedia-madera/pino/\n",
        "\n",
        "3. https://woodgears.ca/bed/build_es.html\n",
        "\n",
        "4. https://fedemaderas.org.co/wp-content/uploads/2022/01/AGROGUIA-Pinus-patula-Antioquia.pdf\n",
        "\n",
        "5. https://triplayyherrajeslopez.com/producto/madera-tropical-de-cedro-rojo-tabla-y-tablon/\n",
        "\n",
        "6. https://www.ferreteriasamir.com/ladrillos-bloques-y-adoquines/3880-bloque-cedro-1x10x10.html\n",
        "\n",
        "7. https://www.homecenter.com.co/homecenter-co/product/70789/liston-3x17-cm-25-metros-cedro-blanco/70789/\n",
        "\n",
        "8. https://www.homecenter.com.co/homecenter-co/product/63813/liston-bastidor-5x3-cm-25-metros-cedro-blanco/63813/\n",
        "\n",
        "9. https://tienda.elijamaderalegal.com/producto/vigas-en-pino-de-10-cm-x-10-cm-x-3mts/\n",
        "\n",
        "10. https://www.aemaderas.com/catalogo/cedro-americano/\n",
        "\n",
        "11. https://maderasgavilan.com/tabla-de-pino/        \n",
        "\n",
        "12. https://aserriosanignacio.com/maderas-rollizas/\n",
        "\n",
        "13. https://fedemaderas.org.co/wp-content/uploads/2022/01/AGROGUIA-Pinus-patula-Antioquia.pdf\n",
        "\n",
        "14. https://triplayyherrajeslopez.com/producto/madera-tropical-de-cedro-rojo-tabla-y-tablon/\n",
        "\n",
        "15. http://www.loscedros.com.co/teca-ficha-tecnica/\n",
        "http://www.loscedros.com.co/madera-teca-decking-exportacion/\n",
        "\n",
        "16. https://repository.udistrital.edu.co/bitstream/handle/11349/7754/Ib%C3%A1%C3%B1ezBerm%C3%BAdezLeonardoAlexander2018.pdf?sequence=1&isAllowed=y\n",
        "\n",
        "17. https://www.madepatula.com/madera-seca-cepillada/ \n",
        "\n",
        "18. https://elijamaderalegal.com/productos/madera-redonda-impregnada-nucleos-de-madera/\n",
        "\n",
        "\n",
        "\n"
      ],
      "metadata": {
        "id": "S5DNUTto6IUw"
      }
    }
  ]
}